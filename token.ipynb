{
  "nbformat": 4,
  "nbformat_minor": 0,
  "metadata": {
    "colab": {
      "name": "token.ipynb",
      "provenance": [],
      "collapsed_sections": [
        "4_w5Bcl8nlmS"
      ],
      "authorship_tag": "ABX9TyNhqFRyAbTqHNykpFsPlEyZ",
      "include_colab_link": true
    },
    "kernelspec": {
      "display_name": "Python 3",
      "name": "python3"
    },
    "language_info": {
      "name": "python"
    }
  },
  "cells": [
    {
      "cell_type": "markdown",
      "metadata": {
        "id": "view-in-github",
        "colab_type": "text"
      },
      "source": [
        "<a href=\"https://colab.research.google.com/github/elivvo/hello-world/blob/main/token.ipynb\" target=\"_parent\"><img src=\"https://colab.research.google.com/assets/colab-badge.svg\" alt=\"Open In Colab\"/></a>"
      ]
    },
    {
      "cell_type": "code",
      "metadata": {
        "colab": {
          "base_uri": "https://localhost:8080/"
        },
        "id": "sMFzj4hwJdzA",
        "outputId": "2a8705b9-2f4d-4c71-9741-f150ba3b6845"
      },
      "source": [
        "import json\n",
        "import pandas as pd\n",
        "import re\n",
        "import numpy as np\n",
        "!pip install razdel\n",
        "import razdel\n",
        "from razdel import tokenize\n",
        "import nltk\n",
        "from nltk.corpus import stopwords\n",
        "nltk.download('stopwords')"
      ],
      "execution_count": null,
      "outputs": [
        {
          "output_type": "stream",
          "name": "stdout",
          "text": [
            "Requirement already satisfied: razdel in /usr/local/lib/python3.7/dist-packages (0.5.0)\n",
            "[nltk_data] Downloading package stopwords to /root/nltk_data...\n",
            "[nltk_data]   Package stopwords is already up-to-date!\n"
          ]
        },
        {
          "output_type": "execute_result",
          "data": {
            "text/plain": [
              "True"
            ]
          },
          "metadata": {},
          "execution_count": 35
        }
      ]
    },
    {
      "cell_type": "code",
      "metadata": {
        "id": "jwqWvr1Ymwyy"
      },
      "source": [
        "stop_eng = set(stopwords.words('english') + ['a', 'b', 'c', 'd', 'e', 'f', 'g', \n",
        "                                             'h', 'i', 'j', 'k', 'l', 'm', 'n',\n",
        "                                             'o', 'p', 'q', 'r', 's', 't', 'u', \n",
        "                                             'v', 'w', 'x', 'y', 'z'])\n",
        "stop_rus = set(stopwords.words('russian') + ['а', 'о', 'у', 'ы', 'э', 'я', 'е', \n",
        "                                             'ё', 'ю', 'и', 'б', 'в', 'г', 'д', \n",
        "                                             'й', 'ж', 'з', 'к', 'л', 'м', 'н', \n",
        "                                             'п', 'р', 'с', 'т', 'ф', 'х', 'ц', \n",
        "                                             'ч', 'ш', 'щ']) \n",
        "stop_words = stop_eng.union(stop_rus)"
      ],
      "execution_count": null,
      "outputs": []
    },
    {
      "cell_type": "markdown",
      "metadata": {
        "id": "4_w5Bcl8nlmS"
      },
      "source": [
        "#**Загрузка данных**"
      ]
    },
    {
      "cell_type": "code",
      "metadata": {
        "id": "x6uf9kjDKv0L"
      },
      "source": [
        "project_cleaned = pd.read_csv(\"projects_cleaned.csv\", sep=\",\")"
      ],
      "execution_count": null,
      "outputs": []
    },
    {
      "cell_type": "code",
      "metadata": {
        "colab": {
          "base_uri": "https://localhost:8080/",
          "height": 840
        },
        "id": "ZbI1ipFaLCgj",
        "outputId": "099355bf-05a1-4167-cfb5-5c75b5e42207"
      },
      "source": [
        "project_cleaned"
      ],
      "execution_count": null,
      "outputs": [
        {
          "output_type": "execute_result",
          "data": {
            "text/html": [
              "<div>\n",
              "<style scoped>\n",
              "    .dataframe tbody tr th:only-of-type {\n",
              "        vertical-align: middle;\n",
              "    }\n",
              "\n",
              "    .dataframe tbody tr th {\n",
              "        vertical-align: top;\n",
              "    }\n",
              "\n",
              "    .dataframe thead th {\n",
              "        text-align: right;\n",
              "    }\n",
              "</style>\n",
              "<table border=\"1\" class=\"dataframe\">\n",
              "  <thead>\n",
              "    <tr style=\"text-align: right;\">\n",
              "      <th></th>\n",
              "      <th>Unnamed: 0</th>\n",
              "      <th>Unnamed: 0.1</th>\n",
              "      <th>name</th>\n",
              "      <th>information</th>\n",
              "      <th>vacancies</th>\n",
              "    </tr>\n",
              "  </thead>\n",
              "  <tbody>\n",
              "    <tr>\n",
              "      <th>0</th>\n",
              "      <td>0</td>\n",
              "      <td>0</td>\n",
              "      <td>Королев Денис Александрович</td>\n",
              "      <td>развитие онлайн-архива russ arct v arch архива...</td>\n",
              "      <td>Веб разработчик Аналитик/ разработчик API инте...</td>\n",
              "    </tr>\n",
              "    <tr>\n",
              "      <th>1</th>\n",
              "      <td>1</td>\n",
              "      <td>1</td>\n",
              "      <td>Давыдов Вячеслав Анатольевич</td>\n",
              "      <td>используя транзакционную историю клиентов сбер...</td>\n",
              "      <td>NaN</td>\n",
              "    </tr>\n",
              "    <tr>\n",
              "      <th>2</th>\n",
              "      <td>2</td>\n",
              "      <td>2</td>\n",
              "      <td>Позин Борис Аронович</td>\n",
              "      <td>целью проекта является исследование поведения ...</td>\n",
              "      <td>NaN</td>\n",
              "    </tr>\n",
              "    <tr>\n",
              "      <th>3</th>\n",
              "      <td>3</td>\n",
              "      <td>3</td>\n",
              "      <td>Минченков Виктор Олегович</td>\n",
              "      <td>разработка программно-аппаратного комплекса дл...</td>\n",
              "      <td>Программист Arduino/Raspberry Программист C++/...</td>\n",
              "    </tr>\n",
              "    <tr>\n",
              "      <th>4</th>\n",
              "      <td>4</td>\n",
              "      <td>4</td>\n",
              "      <td>Белов Александр Владимирович</td>\n",
              "      <td>построение математической и программной модели...</td>\n",
              "      <td>NaN</td>\n",
              "    </tr>\n",
              "    <tr>\n",
              "      <th>...</th>\n",
              "      <td>...</td>\n",
              "      <td>...</td>\n",
              "      <td>...</td>\n",
              "      <td>...</td>\n",
              "      <td>...</td>\n",
              "    </tr>\n",
              "    <tr>\n",
              "      <th>109</th>\n",
              "      <td>109</td>\n",
              "      <td>109</td>\n",
              "      <td>Демин Дмитрий Олегович</td>\n",
              "      <td>-построить конечно-элементные кэ модели исслед...</td>\n",
              "      <td>Инженер-исследователь  Навыки работы в CAD/CAE...</td>\n",
              "    </tr>\n",
              "    <tr>\n",
              "      <th>110</th>\n",
              "      <td>110</td>\n",
              "      <td>110</td>\n",
              "      <td>Мезенев Кирилл</td>\n",
              "      <td>разработать мобильное приложение с исчерпывающ...</td>\n",
              "      <td>NaN</td>\n",
              "    </tr>\n",
              "    <tr>\n",
              "      <th>111</th>\n",
              "      <td>111</td>\n",
              "      <td>111</td>\n",
              "      <td>test</td>\n",
              "      <td>t</td>\n",
              "      <td>NaN</td>\n",
              "    </tr>\n",
              "    <tr>\n",
              "      <th>112</th>\n",
              "      <td>112</td>\n",
              "      <td>112</td>\n",
              "      <td>Якименко Святослав Игоревич</td>\n",
              "      <td>обеспечить средствами автоматизированной прове...</td>\n",
              "      <td>back-end разработчик Frontend-разработчик API ...</td>\n",
              "    </tr>\n",
              "    <tr>\n",
              "      <th>113</th>\n",
              "      <td>113</td>\n",
              "      <td>113</td>\n",
              "      <td>Мотайленко Илья</td>\n",
              "      <td>создание виртуального тура по общежитию трилис...</td>\n",
              "      <td>NaN</td>\n",
              "    </tr>\n",
              "  </tbody>\n",
              "</table>\n",
              "<p>114 rows × 5 columns</p>\n",
              "</div>"
            ],
            "text/plain": [
              "     Unnamed: 0  ...                                          vacancies\n",
              "0             0  ...  Веб разработчик Аналитик/ разработчик API инте...\n",
              "1             1  ...                                                NaN\n",
              "2             2  ...                                                NaN\n",
              "3             3  ...  Программист Arduino/Raspberry Программист C++/...\n",
              "4             4  ...                                                NaN\n",
              "..          ...  ...                                                ...\n",
              "109         109  ...  Инженер-исследователь  Навыки работы в CAD/CAE...\n",
              "110         110  ...                                                NaN\n",
              "111         111  ...                                                NaN\n",
              "112         112  ...  back-end разработчик Frontend-разработчик API ...\n",
              "113         113  ...                                                NaN\n",
              "\n",
              "[114 rows x 5 columns]"
            ]
          },
          "metadata": {},
          "execution_count": 38
        }
      ]
    },
    {
      "cell_type": "markdown",
      "metadata": {
        "id": "t7_G2Eb-LI3R"
      },
      "source": [
        "#**Токенизация** "
      ]
    },
    {
      "cell_type": "code",
      "metadata": {
        "id": "emhBKY3Xn11V"
      },
      "source": [
        "def tokenize_razdel(text):\n",
        "  return [token.text for token in razdel.tokenize(text)]\n",
        "\n",
        "def stopwords_cleaning(text):\n",
        "  return [w for w in tokenize_razdel(text) if not w in stop_words]"
      ],
      "execution_count": null,
      "outputs": []
    },
    {
      "cell_type": "code",
      "metadata": {
        "id": "Z-U2km26rnt7"
      },
      "source": [
        "project_token = project_cleaned"
      ],
      "execution_count": null,
      "outputs": []
    },
    {
      "cell_type": "code",
      "metadata": {
        "id": "1tilTxLZqUW7"
      },
      "source": [
        "project_token['information'] = project_token['information'].apply(stopwords_cleaning)"
      ],
      "execution_count": null,
      "outputs": []
    },
    {
      "cell_type": "code",
      "metadata": {
        "colab": {
          "base_uri": "https://localhost:8080/",
          "height": 840
        },
        "id": "jlx-kLzJe9Rt",
        "outputId": "bb8a1b99-820f-4f3d-9258-41adfd11e2ec"
      },
      "source": [
        "project_token"
      ],
      "execution_count": null,
      "outputs": [
        {
          "output_type": "execute_result",
          "data": {
            "text/html": [
              "<div>\n",
              "<style scoped>\n",
              "    .dataframe tbody tr th:only-of-type {\n",
              "        vertical-align: middle;\n",
              "    }\n",
              "\n",
              "    .dataframe tbody tr th {\n",
              "        vertical-align: top;\n",
              "    }\n",
              "\n",
              "    .dataframe thead th {\n",
              "        text-align: right;\n",
              "    }\n",
              "</style>\n",
              "<table border=\"1\" class=\"dataframe\">\n",
              "  <thead>\n",
              "    <tr style=\"text-align: right;\">\n",
              "      <th></th>\n",
              "      <th>Unnamed: 0</th>\n",
              "      <th>Unnamed: 0.1</th>\n",
              "      <th>name</th>\n",
              "      <th>information</th>\n",
              "      <th>vacancies</th>\n",
              "    </tr>\n",
              "  </thead>\n",
              "  <tbody>\n",
              "    <tr>\n",
              "      <th>0</th>\n",
              "      <td>0</td>\n",
              "      <td>0</td>\n",
              "      <td>Королев Денис Александрович</td>\n",
              "      <td>[развитие, онлайн-архива, russ, arct, arch, ар...</td>\n",
              "      <td>Веб разработчик Аналитик/ разработчик API инте...</td>\n",
              "    </tr>\n",
              "    <tr>\n",
              "      <th>1</th>\n",
              "      <td>1</td>\n",
              "      <td>1</td>\n",
              "      <td>Давыдов Вячеслав Анатольевич</td>\n",
              "      <td>[используя, транзакционную, историю, клиентов,...</td>\n",
              "      <td>NaN</td>\n",
              "    </tr>\n",
              "    <tr>\n",
              "      <th>2</th>\n",
              "      <td>2</td>\n",
              "      <td>2</td>\n",
              "      <td>Позин Борис Аронович</td>\n",
              "      <td>[целью, проекта, является, исследование, повед...</td>\n",
              "      <td>NaN</td>\n",
              "    </tr>\n",
              "    <tr>\n",
              "      <th>3</th>\n",
              "      <td>3</td>\n",
              "      <td>3</td>\n",
              "      <td>Минченков Виктор Олегович</td>\n",
              "      <td>[разработка, программно-аппаратного, комплекса...</td>\n",
              "      <td>Программист Arduino/Raspberry Программист C++/...</td>\n",
              "    </tr>\n",
              "    <tr>\n",
              "      <th>4</th>\n",
              "      <td>4</td>\n",
              "      <td>4</td>\n",
              "      <td>Белов Александр Владимирович</td>\n",
              "      <td>[построение, математической, программной, моде...</td>\n",
              "      <td>NaN</td>\n",
              "    </tr>\n",
              "    <tr>\n",
              "      <th>...</th>\n",
              "      <td>...</td>\n",
              "      <td>...</td>\n",
              "      <td>...</td>\n",
              "      <td>...</td>\n",
              "      <td>...</td>\n",
              "    </tr>\n",
              "    <tr>\n",
              "      <th>109</th>\n",
              "      <td>109</td>\n",
              "      <td>109</td>\n",
              "      <td>Демин Дмитрий Олегович</td>\n",
              "      <td>[-, построить, конечно-элементные, кэ, модели,...</td>\n",
              "      <td>Инженер-исследователь  Навыки работы в CAD/CAE...</td>\n",
              "    </tr>\n",
              "    <tr>\n",
              "      <th>110</th>\n",
              "      <td>110</td>\n",
              "      <td>110</td>\n",
              "      <td>Мезенев Кирилл</td>\n",
              "      <td>[разработать, мобильное, приложение, исчерпыва...</td>\n",
              "      <td>NaN</td>\n",
              "    </tr>\n",
              "    <tr>\n",
              "      <th>111</th>\n",
              "      <td>111</td>\n",
              "      <td>111</td>\n",
              "      <td>test</td>\n",
              "      <td>[]</td>\n",
              "      <td>NaN</td>\n",
              "    </tr>\n",
              "    <tr>\n",
              "      <th>112</th>\n",
              "      <td>112</td>\n",
              "      <td>112</td>\n",
              "      <td>Якименко Святослав Игоревич</td>\n",
              "      <td>[обеспечить, средствами, автоматизированной, п...</td>\n",
              "      <td>back-end разработчик Frontend-разработчик API ...</td>\n",
              "    </tr>\n",
              "    <tr>\n",
              "      <th>113</th>\n",
              "      <td>113</td>\n",
              "      <td>113</td>\n",
              "      <td>Мотайленко Илья</td>\n",
              "      <td>[создание, виртуального, тура, общежитию, трил...</td>\n",
              "      <td>NaN</td>\n",
              "    </tr>\n",
              "  </tbody>\n",
              "</table>\n",
              "<p>114 rows × 5 columns</p>\n",
              "</div>"
            ],
            "text/plain": [
              "     Unnamed: 0  ...                                          vacancies\n",
              "0             0  ...  Веб разработчик Аналитик/ разработчик API инте...\n",
              "1             1  ...                                                NaN\n",
              "2             2  ...                                                NaN\n",
              "3             3  ...  Программист Arduino/Raspberry Программист C++/...\n",
              "4             4  ...                                                NaN\n",
              "..          ...  ...                                                ...\n",
              "109         109  ...  Инженер-исследователь  Навыки работы в CAD/CAE...\n",
              "110         110  ...                                                NaN\n",
              "111         111  ...                                                NaN\n",
              "112         112  ...  back-end разработчик Frontend-разработчик API ...\n",
              "113         113  ...                                                NaN\n",
              "\n",
              "[114 rows x 5 columns]"
            ]
          },
          "metadata": {},
          "execution_count": 42
        }
      ]
    },
    {
      "cell_type": "code",
      "metadata": {
        "id": "yRcSHjEY0zbE"
      },
      "source": [
        "project_token.to_csv('project_token.csv')"
      ],
      "execution_count": null,
      "outputs": []
    },
    {
      "cell_type": "markdown",
      "metadata": {
        "id": "VYd5I-TTgJfT"
      },
      "source": [
        "#**Лемматизация** "
      ]
    },
    {
      "cell_type": "code",
      "metadata": {
        "id": "j5Kxe70IBHtR"
      },
      "source": [
        "project_filtered = project_cleaned"
      ],
      "execution_count": null,
      "outputs": []
    },
    {
      "cell_type": "code",
      "metadata": {
        "id": "AyfxO57y4h3U"
      },
      "source": [
        ""
      ],
      "execution_count": null,
      "outputs": []
    }
  ]
}